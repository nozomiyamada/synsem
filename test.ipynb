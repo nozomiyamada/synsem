{
 "cells": [
  {
   "cell_type": "code",
   "execution_count": 1,
   "metadata": {},
   "outputs": [],
   "source": [
    "from pythainlp import word_tokenize, pos_tag\n",
    "from collections import Counter\n",
    "from tqdm import tqdm\n",
    "\n",
    "import pandas as pd\n"
   ]
  },
  {
   "cell_type": "code",
   "execution_count": 2,
   "metadata": {},
   "outputs": [],
   "source": [
    "df = pd.read_json('~/Documents/matichon.json')\n",
    "df = df[[\"article\"]]"
   ]
  },
  {
   "cell_type": "code",
   "execution_count": 3,
   "metadata": {},
   "outputs": [],
   "source": [
    "df = df.head(50000)"
   ]
  },
  {
   "cell_type": "code",
   "execution_count": 5,
   "metadata": {},
   "outputs": [
    {
     "name": "stdout",
     "output_type": "stream",
     "text": [
      "tokenize finished\n"
     ]
    }
   ],
   "source": [
    "df[\"token\"] = df[\"article\"].apply(word_tokenize)\n",
    "print(\"tokenize finished\")\n",
    "df[\"pos\"] = df[\"token\"].apply(lambda x: pos_tag(x, corpus=\"orchid_ud\"))"
   ]
  },
  {
   "cell_type": "code",
   "execution_count": null,
   "metadata": {},
   "outputs": [
    {
     "data": {
      "text/plain": [
       "[('ไป', 'VERB'), ('เรียน', 'VERB'), ('ไหม', 'ADV')]"
      ]
     },
     "execution_count": 10,
     "metadata": {},
     "output_type": "execute_result"
    }
   ],
   "source": [
    "pos_tag(word_tokenize(\"ไปเรียนไหม\"), corpus=\"orchid_ud\")"
   ]
  },
  {
   "cell_type": "code",
   "execution_count": null,
   "metadata": {},
   "outputs": [
    {
     "data": {
      "text/html": [
       "<div>\n",
       "<style scoped>\n",
       "    .dataframe tbody tr th:only-of-type {\n",
       "        vertical-align: middle;\n",
       "    }\n",
       "\n",
       "    .dataframe tbody tr th {\n",
       "        vertical-align: top;\n",
       "    }\n",
       "\n",
       "    .dataframe thead th {\n",
       "        text-align: right;\n",
       "    }\n",
       "</style>\n",
       "<table border=\"1\" class=\"dataframe\">\n",
       "  <thead>\n",
       "    <tr style=\"text-align: right;\">\n",
       "      <th></th>\n",
       "      <th>article</th>\n",
       "      <th>token</th>\n",
       "      <th>pos</th>\n",
       "    </tr>\n",
       "  </thead>\n",
       "  <tbody>\n",
       "    <tr>\n",
       "      <th>0</th>\n",
       "      <td>วันที่ 7 มีนาคม พล.ร.อ.ไกรสร จันทร์สุวานิชย์ ผ...</td>\n",
       "      <td>[วันที่,  , 7,  , มีนาคม,  , พล, ., ร.อ., ไกรส...</td>\n",
       "      <td>[(วันที่, NOUN), ( , PUNCT), (7, NUM), ( , PUN...</td>\n",
       "    </tr>\n",
       "    <tr>\n",
       "      <th>1</th>\n",
       "      <td>17 ส.ค. – นายพัฒนะ พลศรี หัวหน้าฝ่ายส่งน้ำและบ...</td>\n",
       "      <td>[17,  , ส.ค.,  , –,  , นาย, พัฒนะ,  , พล, ศรี,...</td>\n",
       "      <td>[(17, NUM), ( , PUNCT), (ส.ค., NOUN), ( , PUNC...</td>\n",
       "    </tr>\n",
       "    <tr>\n",
       "      <th>2</th>\n",
       "      <td>พลเอกประยุทธ์ จันทร์โอชา นายกรัฐมนตรี และหัวหน...</td>\n",
       "      <td>[พลเอก, ประยุทธ์,  , จันทร์, โอชา,  , นายกรัฐม...</td>\n",
       "      <td>[(พลเอก, NOUN), (ประยุทธ์, NOUN), ( , PUNCT), ...</td>\n",
       "    </tr>\n",
       "    <tr>\n",
       "      <th>3</th>\n",
       "      <td>คำแถลงของคุณสุเทพ เทือกสุบรรณ หลังลาสิกขาดูเหม...</td>\n",
       "      <td>[คำแถลง, ของ, คุณ, สุเทพ,  , เทือก, สุบรรณ,  ,...</td>\n",
       "      <td>[(คำแถลง, NOUN), (ของ, ADP), (คุณ, PRON), (สุเ...</td>\n",
       "    </tr>\n",
       "    <tr>\n",
       "      <th>4</th>\n",
       "      <td>(16 ส.ค.58) สำนักข่าวซีเอ็นเอ็นรายงานว่า ทางกา...</td>\n",
       "      <td>[(, 16,  , ส.ค., 58, ),  , สำนักข่าว, ซีเอ็นเอ...</td>\n",
       "      <td>[((, PUNCT), (16, NUM), ( , PUNCT), (ส.ค., NOU...</td>\n",
       "    </tr>\n",
       "    <tr>\n",
       "      <th>...</th>\n",
       "      <td>...</td>\n",
       "      <td>...</td>\n",
       "      <td>...</td>\n",
       "    </tr>\n",
       "    <tr>\n",
       "      <th>49995</th>\n",
       "      <td>แคม นิวตัน ควอเตอร์แบ๊กรางวัลผู้เล่นทรงคุณค่า ...</td>\n",
       "      <td>[แคม,  , นิวตัน,  , ค, วอเตอร์, แบ๊, กราง, วัล...</td>\n",
       "      <td>[(แคม, NOUN), ( , PUNCT), (นิวตัน, NOUN), ( , ...</td>\n",
       "    </tr>\n",
       "    <tr>\n",
       "      <th>49996</th>\n",
       "      <td>เชิญผู้ที่ชื่นชอบอาหารและความบันเทิงจากหลากหลา...</td>\n",
       "      <td>[เชิญ, ผู้, ที่, ชื่นชอบ, อาหาร, และ, ความบันเ...</td>\n",
       "      <td>[(เชิญ, NOUN), (ผู้, PRON), (ที่, SCONJ), (ชื่...</td>\n",
       "    </tr>\n",
       "    <tr>\n",
       "      <th>49997</th>\n",
       "      <td>ความคืบหน้าเฟซบุ๊กแชร์ภาพเด็กสองขวบถูกชนเสียชี...</td>\n",
       "      <td>[ความคืบหน้า, เฟซบุ๊ก, แชร์, ภาพ, เด็ก, สอง, ข...</td>\n",
       "      <td>[(ความคืบหน้า, NOUN), (เฟซบุ๊ก, NOUN), (แชร์, ...</td>\n",
       "    </tr>\n",
       "    <tr>\n",
       "      <th>49998</th>\n",
       "      <td>อัลคาเทล (Alcatel) แบรนด์โทรศัพท์มือถือภายใต้ก...</td>\n",
       "      <td>[อัลคาเทล,  , (, Alcatel, ),  , แบรนด์, โทรศัพ...</td>\n",
       "      <td>[(อัลคาเทล, NOUN), ( , PUNCT), ((, PUNCT), (Al...</td>\n",
       "    </tr>\n",
       "    <tr>\n",
       "      <th>49999</th>\n",
       "      <td>วันที่ 26 กันยายน จากปัญหาอุบัติเหตุทางถนนในพื...</td>\n",
       "      <td>[วันที่,  , 26,  , กันยายน,  , จาก, ปัญหา, อุบ...</td>\n",
       "      <td>[(วันที่, NOUN), ( , PUNCT), (26, NUM), ( , PU...</td>\n",
       "    </tr>\n",
       "  </tbody>\n",
       "</table>\n",
       "<p>50000 rows × 3 columns</p>\n",
       "</div>"
      ],
      "text/plain": [
       "                                                 article  \\\n",
       "0      วันที่ 7 มีนาคม พล.ร.อ.ไกรสร จันทร์สุวานิชย์ ผ...   \n",
       "1      17 ส.ค. – นายพัฒนะ พลศรี หัวหน้าฝ่ายส่งน้ำและบ...   \n",
       "2      พลเอกประยุทธ์ จันทร์โอชา นายกรัฐมนตรี และหัวหน...   \n",
       "3      คำแถลงของคุณสุเทพ เทือกสุบรรณ หลังลาสิกขาดูเหม...   \n",
       "4      (16 ส.ค.58) สำนักข่าวซีเอ็นเอ็นรายงานว่า ทางกา...   \n",
       "...                                                  ...   \n",
       "49995  แคม นิวตัน ควอเตอร์แบ๊กรางวัลผู้เล่นทรงคุณค่า ...   \n",
       "49996  เชิญผู้ที่ชื่นชอบอาหารและความบันเทิงจากหลากหลา...   \n",
       "49997  ความคืบหน้าเฟซบุ๊กแชร์ภาพเด็กสองขวบถูกชนเสียชี...   \n",
       "49998  อัลคาเทล (Alcatel) แบรนด์โทรศัพท์มือถือภายใต้ก...   \n",
       "49999  วันที่ 26 กันยายน จากปัญหาอุบัติเหตุทางถนนในพื...   \n",
       "\n",
       "                                                   token  \\\n",
       "0      [วันที่,  , 7,  , มีนาคม,  , พล, ., ร.อ., ไกรส...   \n",
       "1      [17,  , ส.ค.,  , –,  , นาย, พัฒนะ,  , พล, ศรี,...   \n",
       "2      [พลเอก, ประยุทธ์,  , จันทร์, โอชา,  , นายกรัฐม...   \n",
       "3      [คำแถลง, ของ, คุณ, สุเทพ,  , เทือก, สุบรรณ,  ,...   \n",
       "4      [(, 16,  , ส.ค., 58, ),  , สำนักข่าว, ซีเอ็นเอ...   \n",
       "...                                                  ...   \n",
       "49995  [แคม,  , นิวตัน,  , ค, วอเตอร์, แบ๊, กราง, วัล...   \n",
       "49996  [เชิญ, ผู้, ที่, ชื่นชอบ, อาหาร, และ, ความบันเ...   \n",
       "49997  [ความคืบหน้า, เฟซบุ๊ก, แชร์, ภาพ, เด็ก, สอง, ข...   \n",
       "49998  [อัลคาเทล,  , (, Alcatel, ),  , แบรนด์, โทรศัพ...   \n",
       "49999  [วันที่,  , 26,  , กันยายน,  , จาก, ปัญหา, อุบ...   \n",
       "\n",
       "                                                     pos  \n",
       "0      [(วันที่, NOUN), ( , PUNCT), (7, NUM), ( , PUN...  \n",
       "1      [(17, NUM), ( , PUNCT), (ส.ค., NOUN), ( , PUNC...  \n",
       "2      [(พลเอก, NOUN), (ประยุทธ์, NOUN), ( , PUNCT), ...  \n",
       "3      [(คำแถลง, NOUN), (ของ, ADP), (คุณ, PRON), (สุเ...  \n",
       "4      [((, PUNCT), (16, NUM), ( , PUNCT), (ส.ค., NOU...  \n",
       "...                                                  ...  \n",
       "49995  [(แคม, NOUN), ( , PUNCT), (นิวตัน, NOUN), ( , ...  \n",
       "49996  [(เชิญ, NOUN), (ผู้, PRON), (ที่, SCONJ), (ชื่...  \n",
       "49997  [(ความคืบหน้า, NOUN), (เฟซบุ๊ก, NOUN), (แชร์, ...  \n",
       "49998  [(อัลคาเทล, NOUN), ( , PUNCT), ((, PUNCT), (Al...  \n",
       "49999  [(วันที่, NOUN), ( , PUNCT), (26, NUM), ( , PU...  \n",
       "\n",
       "[50000 rows x 3 columns]"
      ]
     },
     "execution_count": 10,
     "metadata": {},
     "output_type": "execute_result"
    }
   ],
   "source": [
    "df"
   ]
  },
  {
   "cell_type": "code",
   "execution_count": 20,
   "metadata": {},
   "outputs": [
    {
     "name": "stderr",
     "output_type": "stream",
     "text": [
      "100%|██████████| 50000/50000 [00:13<00:00, 3762.16it/s]\n"
     ]
    }
   ],
   "source": [
    "trans = Counter()\n",
    "ditrans = Counter()\n",
    "\n",
    "trans_bigram = Counter()\n",
    "ditrans_trigram = Counter()\n",
    "\n",
    "for tokens in tqdm(df.pos):\n",
    "    for i in range(len(tokens)-2):\n",
    "        token0, pos0 = tokens[i][0], tokens[i][1]\n",
    "        token1, pos1 = tokens[i+1][0], tokens[i+1][1]\n",
    "        token2, pos2 = tokens[i+2][0], tokens[i+2][1]\n",
    "        if pos0 == \"VERB\" and pos1 ==\"NOUN\":\n",
    "            trans[token0] += 1\n",
    "            trans_bigram[(token0, token1)] += 1\n",
    "            #if pos2 == \"PRON\": #\n",
    "            if token2 in [\"เขา\",\"คุณ\",\"แม่\",\"พ่อ\",\"ฉัน\",\"เธอ\"]: # pos2 == \"PRON\": #\n",
    "                ditrans[token0] += 1\n",
    "                ditrans_trigram[(token0, token1, token2)] += 1"
   ]
  },
  {
   "cell_type": "code",
   "execution_count": 21,
   "metadata": {},
   "outputs": [
    {
     "name": "stdout",
     "output_type": "stream",
     "text": [
      "     verb  count_DT  count_T      rate\n",
      "5      ยา        34     1811  1.877416\n",
      "4     กิน        40     2641  1.514578\n",
      "7      ไป        32     3829  0.835727\n",
      "11   อยู่        24     5327  0.450535\n",
      "8    เห็น        29     7380  0.392954\n",
      "3     ให้        45    16230  0.277264\n",
      "2   ทำให้        50    20827  0.240073\n",
      "6     คือ        33    17713  0.186304\n",
      "9   สร้าง        29    19552  0.148322\n",
      "10     ทำ        25    25502  0.098032\n",
      "0    เป็น       137   163724  0.083677\n",
      "1      มี        70   229227  0.030537\n"
     ]
    }
   ],
   "source": [
    "df_trans = pd.DataFrame(trans.most_common(), columns=[\"verb\", \"count\"])\n",
    "df_ditrans = pd.DataFrame(ditrans.most_common(), columns=[\"verb\", \"count\"])\n",
    "df_ditrans = df_ditrans[df_ditrans[\"count\"] > 20]\n",
    "merged = pd.merge(df_ditrans, df_trans, how=\"inner\", on=\"verb\")\n",
    "merged[\"rate\"] = merged.count_x / merged.count_y * 100\n",
    "merged = merged.sort_values(\"rate\", ascending=False)\n",
    "merged.columns = [\"verb\", \"count_DT\",\"count_T\",\"rate\"]\n",
    "merged[[\"verb\",\"rate\"]].to_csv(\"ditransitive_rate.csv\",index=False)\n",
    "print(merged)"
   ]
  },
  {
   "cell_type": "code",
   "execution_count": 22,
   "metadata": {},
   "outputs": [
    {
     "data": {
      "text/html": [
       "<div>\n",
       "<style scoped>\n",
       "    .dataframe tbody tr th:only-of-type {\n",
       "        vertical-align: middle;\n",
       "    }\n",
       "\n",
       "    .dataframe tbody tr th {\n",
       "        vertical-align: top;\n",
       "    }\n",
       "\n",
       "    .dataframe thead th {\n",
       "        text-align: right;\n",
       "    }\n",
       "</style>\n",
       "<table border=\"1\" class=\"dataframe\">\n",
       "  <thead>\n",
       "    <tr style=\"text-align: right;\">\n",
       "      <th></th>\n",
       "      <th>verb</th>\n",
       "      <th>rate</th>\n",
       "    </tr>\n",
       "  </thead>\n",
       "  <tbody>\n",
       "    <tr>\n",
       "      <th>0</th>\n",
       "      <td>ยา</td>\n",
       "      <td>1.877416</td>\n",
       "    </tr>\n",
       "    <tr>\n",
       "      <th>1</th>\n",
       "      <td>กิน</td>\n",
       "      <td>1.514578</td>\n",
       "    </tr>\n",
       "    <tr>\n",
       "      <th>2</th>\n",
       "      <td>ไป</td>\n",
       "      <td>0.835727</td>\n",
       "    </tr>\n",
       "    <tr>\n",
       "      <th>3</th>\n",
       "      <td>อยู่</td>\n",
       "      <td>0.450535</td>\n",
       "    </tr>\n",
       "    <tr>\n",
       "      <th>4</th>\n",
       "      <td>เห็น</td>\n",
       "      <td>0.392954</td>\n",
       "    </tr>\n",
       "    <tr>\n",
       "      <th>5</th>\n",
       "      <td>ให้</td>\n",
       "      <td>0.277264</td>\n",
       "    </tr>\n",
       "    <tr>\n",
       "      <th>6</th>\n",
       "      <td>ทำให้</td>\n",
       "      <td>0.240073</td>\n",
       "    </tr>\n",
       "    <tr>\n",
       "      <th>7</th>\n",
       "      <td>คือ</td>\n",
       "      <td>0.186304</td>\n",
       "    </tr>\n",
       "    <tr>\n",
       "      <th>8</th>\n",
       "      <td>สร้าง</td>\n",
       "      <td>0.148322</td>\n",
       "    </tr>\n",
       "    <tr>\n",
       "      <th>9</th>\n",
       "      <td>ทำ</td>\n",
       "      <td>0.098032</td>\n",
       "    </tr>\n",
       "  </tbody>\n",
       "</table>\n",
       "</div>"
      ],
      "text/plain": [
       "    verb      rate\n",
       "0     ยา  1.877416\n",
       "1    กิน  1.514578\n",
       "2     ไป  0.835727\n",
       "3   อยู่  0.450535\n",
       "4   เห็น  0.392954\n",
       "5    ให้  0.277264\n",
       "6  ทำให้  0.240073\n",
       "7    คือ  0.186304\n",
       "8  สร้าง  0.148322\n",
       "9     ทำ  0.098032"
      ]
     },
     "execution_count": 22,
     "metadata": {},
     "output_type": "execute_result"
    }
   ],
   "source": [
    "merged.head(10)[[\"verb\",\"rate\"]].reset_index(drop=True)"
   ]
  },
  {
   "cell_type": "code",
   "execution_count": 16,
   "metadata": {},
   "outputs": [],
   "source": [
    "df_trans.to_csv(\"trans.csv\",index=False)\n",
    "df_ditrans.to_csv(\"ditrans.csv\",index=False)"
   ]
  },
  {
   "cell_type": "code",
   "execution_count": 149,
   "metadata": {},
   "outputs": [
    {
     "name": "stdout",
     "output_type": "stream",
     "text": [
      "ไป\n",
      "ต่าง\n",
      "รู้สึก\n",
      "ถาม\n",
      "พูด\n",
      "ต้องการ\n",
      "ชอบ\n",
      "ประกาศ\n",
      "มา\n",
      "เขียน\n",
      "รู้\n",
      "ยา\n",
      "เอา\n",
      "เลือก\n",
      "อยู่\n",
      "ขอ\n",
      "เจอ\n",
      "เข้าใจ\n",
      "บอก\n",
      "คิด\n",
      "มอง\n",
      "พยายาม\n",
      "เห็น\n",
      "เกิดขึ้น\n",
      "โพสต์\n",
      "ดูแล\n",
      "ฟัง\n",
      "ช่วยเหลือ\n",
      "เหมือน\n",
      "จับ\n",
      "เสีย\n",
      "ยิง\n",
      "ใช่\n",
      "มาถึง\n",
      "ตอบ\n",
      "ช่วย\n",
      "ทำให้\n",
      "ให้\n",
      "มาจาก\n",
      "แจ้ง\n",
      "กลับ\n",
      "มี\n",
      "ทำ\n",
      "เสนอ\n",
      "คือ\n",
      "จ่าย\n",
      "ตัด\n",
      "เล่น\n",
      "ออก\n",
      "ดู\n",
      "ติดตาม\n",
      "กิน\n",
      "\n",
      "\n",
      "ใส่\n",
      "กำหนด\n",
      "ขอให้\n",
      "หา\n",
      "ได้\n",
      "เรียก\n",
      "เดิน\n",
      "เตรียม\n",
      "เข้า\n",
      "ทราบ\n",
      "จัดการ\n",
      "เกิด\n",
      "แสดง\n",
      "ดำเนิน\n",
      "ใช้\n",
      "ปรับ\n",
      "เป็น\n",
      "ซื้อ\n",
      "กล่าว\n",
      "ขาย\n",
      "ตั้ง\n",
      "ติด\n",
      "ยังมี\n",
      "พบ\n",
      "เก็บ\n",
      "รับ\n",
      "ลง\n",
      "จัด\n",
      "เพิ่ม\n",
      "ส่ง\n",
      "พัฒนา\n",
      "นำ\n",
      "ผ่าน\n",
      "รักษา\n",
      "ลด\n",
      "สร้าง\n",
      "เปิด\n",
      "พร้อม\n",
      "ได้รับ\n"
     ]
    }
   ],
   "source": [
    "print(*merged.verb.to_list(), sep=\"\\n\")"
   ]
  },
  {
   "cell_type": "code",
   "execution_count": 25,
   "metadata": {},
   "outputs": [
    {
     "name": "stdout",
     "output_type": "stream",
     "text": [
      "กิน นม แม่\n",
      "ยา ธิ คุณ\n",
      "สร้าง เขื่อน แม่\n",
      "ขอ เงิน แม่\n",
      "ส่ง โรงพยาบาล แม่\n",
      "ยุว สถิร คุณ\n",
      "เป็น ป่า เขา\n",
      "ดื่ม นม แม่\n",
      "มา จังหวัด ฉัน\n",
      "บอ กรัก แม่\n",
      "ให้ คนอื่น เขา\n",
      "ไป โทษ เขา\n",
      "เป็น พ่อค้า แม่\n",
      "ให้ เวลา เขา\n",
      "ได้รับ นม แม่\n",
      "ทำให้ พวก เธอ\n",
      "เป็น กฎหมาย แม่\n",
      "สุนทร ปริยัติ คุณ\n",
      "อุดม สมุทร คุณ\n",
      "จัดทำ ฝาย แม่\n"
     ]
    }
   ],
   "source": [
    "for i in ditrans_trigram.most_common(20):\n",
    "    print(*i[0])"
   ]
  },
  {
   "cell_type": "code",
   "execution_count": 19,
   "metadata": {},
   "outputs": [
    {
     "name": "stdout",
     "output_type": "stream",
     "text": [
      "ไป โปรโมต ตัวเอง 1\n",
      "ไป รู้เรื่อง อะไร 1\n",
      "ไป พูดคุย อย่างไร 1\n",
      "ไป จอด ที่ไหน 1\n",
      "ไป คิดได้ อย่างไร 1\n",
      "ไป ที่มา อย่างไร 2\n",
      "ไป เชิญ ผู้ 2\n",
      "ไป โทษ เขา 6\n",
      "ไป โดน อะไร 1\n",
      "ไป ก่อเรื่อง อะไร 1\n",
      "ไป ตีความ อะไร 1\n",
      "ไป ขัดแย้ง อะไร 1\n",
      "ไป รุกราน เขา 1\n",
      "ไป โทษ ใคร 5\n",
      "ไป ข้างหน้า อย่างไร 1\n",
      "ไป กังวล อะไร 1\n",
      "ไป ใช้อำนาจ อะไร 2\n",
      "ไป สู้ เขา 2\n",
      "ไป ชิม อะไร 2\n",
      "ไป ชี้นำ อะไร 1\n",
      "ไป โจมตี เขา 1\n",
      "ไป ขัด เขา 1\n",
      "ไป มีอำนาจ อะไร 1\n",
      "ไป ขัดขา ใคร 1\n",
      "ไป ตอบโต้ ใคร 1\n",
      "ไป หนุน คุณ 1\n",
      "ไป ล็อค อะไร 1\n",
      "ไป ชี้แจง เขา 1\n",
      "ไป ขัดขวาง อะไร 1\n",
      "ไป หาเรื่อง ใคร 3\n",
      "ไป มุ่งร้าย ใคร 1\n",
      "ไป ดัก อะไร 1\n",
      "ไป แข่ง เขา 1\n",
      "ไป รื้อ อะไร 1\n",
      "ไป รณรงค์ อะไร 2\n",
      "ไป มองหน้า ใคร 1\n",
      "ไป งาน ไหน 3\n",
      "ไป แตะ อะไร 2\n",
      "ไป ขัด อะไร 1\n",
      "ไป ลงโทษ ผู้ 1\n",
      "ไป กระทบกระเทือน ใคร 1\n",
      "ไป ขัดใจ ท่าน 1\n",
      "ไป ชน ใคร 2\n",
      "ไป พาดพิง อะไร 1\n",
      "ไป ปฏิบัติหน้าที่ อะไร 1\n",
      "ไป ฉีด อะไร 1\n",
      "ไป ฆ่า ใคร 3\n",
      "ไป รังแก เขา 1\n",
      "ไป ต่างประเทศ ทุกคน 1\n",
      "ไป ทุกข์ร้อน อะไร 1\n",
      "ไป เต้น อะไร 1\n",
      "ไป แย้ง อะไร 1\n",
      "ไป เวลา ไหน 1\n",
      "ไป กราบ ท่าน 1\n",
      "ไป แตะต้อง อะไร 2\n",
      "ไป เสี่ยง อะไร 1\n",
      "ไป ระดม ใคร 1\n",
      "ไป มีอิทธิพล อะไร 1\n",
      "ไป สมัครงาน ที่ไหน 1\n",
      "ไป ชักจูง ใคร 1\n",
      "ไป เยี่ยม เขา 1\n",
      "ไป คลิก อะไร 1\n",
      "ไป ชักชวน มัน 1\n",
      "ไป เยี่ยม ผู้ 2\n",
      "ไป นอน ที่ไหน 1\n",
      "ไป โกง อะไร 2\n",
      "ไป ฝากฝัง อะไร 1\n",
      "ไป ด้าน ไหน 1\n",
      "ไป อ้อนวอน ท่าน 1\n",
      "ไป วิพากษ์วิจารณ์ อะไร 1\n",
      "ไป โรงพยาบาล ไหน 1\n",
      "ไป ทาน อะไร 1\n",
      "ไป ฟ้อง ใคร 1\n",
      "ไป รังแก ใคร 2\n",
      "ไป คุม อะไร 1\n",
      "ไป รังเกียจ อะไร 1\n",
      "ไป กู้เงิน ที่ไหน 1\n",
      "ไป เยือน เขา 1\n",
      "ไป ร้องเรียน ผม 1\n",
      "ไป ตอบโต้ อะไร 2\n",
      "ไป พบเห็น ท่าน 1\n",
      "ไป กลัว อะไร 6\n",
      "ไป ขอโทษ คุณ 1\n",
      "ไป ทาบทาม ผู้ 1\n",
      "ไป เจรจา อะไร 1\n",
      "ไป บุก อะไร 1\n",
      "ไป ขัดใจ ใคร 1\n",
      "ไป ทำกิจกรรม อะไร 2\n",
      "ไป คาดหวัง อะไร 1\n",
      "ไป พัก ที่ไหน 1\n",
      "ไป ฟ้องร้อง เขา 1\n",
      "ไป อุทธรณ์ ที่ไหน 1\n",
      "ไป กดดัน ใคร 1\n",
      "ไป ขออนุญาต ใคร 1\n",
      "ไป ตีความ อย่างไร 1\n",
      "ไป ฟ้อง อะไร 1\n",
      "ไป ละลาน อะไร 1\n",
      "ไป ร้องขอ อะไร 1\n",
      "ไป บ้าน เขา 1\n",
      "ไป สู้ อะไร 1\n",
      "ไป กล่าวหา อะไร 1\n",
      "ไป ไล่เบี้ย อย่างไร 1\n",
      "ไป เฝ้าดูแล ท่าน 1\n",
      "ไป เอาโทษ เขา 1\n",
      "ไป ฆ่า เขา 1\n",
      "ไป ก้าวล่วง อะไร 1\n",
      "ไป ประเทศ เขา 1\n",
      "ไป โทษ ท่าน 1\n",
      "ไป ด่า เขา 1\n",
      "ไป บ้าน ผม 1\n",
      "ไป รบราฆ่าฟัน อะไร 1\n",
      "ไป ทิศทาง ไหน 1\n",
      "ไป กู้ ใคร 1\n",
      "ไป สู้ ใคร 1\n",
      "ไป สั่งการ อะไร 2\n",
      "ไป กล่าวหา เขา 1\n",
      "ไป หลอก เขา 1\n",
      "ไป ตี ท่าน 1\n",
      "ไป แถลง อะไร 1\n",
      "ไป ทำบุญ ที่ไหน 2\n",
      "ไป ชี้แจง ที่ไหน 1\n",
      "ไป ประกอบอาชีพ อะไร 1\n",
      "ไป บ้าน ไหน 1\n",
      "ไป กดดัน เขา 1\n",
      "ไป กดดัน อะไร 1\n",
      "ไป ขัดแย้ง ท่าน 1\n",
      "ไป กังวล เขา 1\n",
      "ไป พูดจา อะไร 1\n",
      "ไป ขโมย ใคร 1\n",
      "ไป รีวิว เอง 1\n",
      "ไป ขยายผล อย่างไร 1\n",
      "ไป ขึ้นโรงขึ้นศาล มัน 1\n",
      "ไป วัน ไหน 1\n",
      "ไป ห้อง มัน 1\n",
      "ไป ฟ้อง เอง 1\n",
      "ไป ก้าวล่วง เขา 1\n",
      "ไป จังหวัด ไหน 1\n",
      "ไป วางขาย ที่ไหน 1\n",
      "ไป ละเมิดสิทธิ์ ใคร 1\n",
      "ไป กลั่นแกล้ง ใคร 1\n",
      "ไป ลงโทษ อะไร 1\n"
     ]
    }
   ],
   "source": [
    "for k, v in ditrans_trigram.items():\n",
    "    if k[0] == \"ไป\":\n",
    "        print(*k, v)"
   ]
  },
  {
   "cell_type": "markdown",
   "metadata": {},
   "source": [
    "# hypo 2"
   ]
  },
  {
   "cell_type": "code",
   "execution_count": 29,
   "metadata": {},
   "outputs": [
    {
     "name": "stderr",
     "output_type": "stream",
     "text": [
      "100%|██████████| 50000/50000 [00:13<00:00, 3817.21it/s]\n"
     ]
    }
   ],
   "source": [
    "hai_counter = Counter()\n",
    "unigram_counter = Counter()\n",
    "bigram_counter = Counter()\n",
    "\n",
    "for tokens in tqdm(df.pos):\n",
    "    for i in range(len(tokens)-2):\n",
    "        token0, pos0 = tokens[i][0], tokens[i][1]\n",
    "        token1, pos1 = tokens[i+1][0], tokens[i+1][1]\n",
    "        token2, pos2 = tokens[i+2][0], tokens[i+2][1]\n",
    "        if pos0 == \"VERB\" and pos1 ==\"NOUN\":\n",
    "            unigram_counter[token0] += 1\n",
    "            bigram_counter[(token0, token1)] += 1\n",
    "            if token2 == \"ให้\":    \n",
    "                hai_counter[token0] += 1\n",
    "                #hai_counter[(token0, token1)] += 1"
   ]
  },
  {
   "cell_type": "code",
   "execution_count": 33,
   "metadata": {},
   "outputs": [
    {
     "name": "stdout",
     "output_type": "stream",
     "text": [
      "Empty DataFrame\n",
      "Columns: [verb, count_hai, count_total, bigram_rate]\n",
      "Index: []\n"
     ]
    }
   ],
   "source": [
    "df_trans = pd.DataFrame(bigram_counter.most_common(), columns=[\"verb\", \"count\"])\n",
    "df_hi = pd.DataFrame(hai_counter.most_common(), columns=[\"verb\", \"count\"])\n",
    "## filter\n",
    "#df_trans = df_trans[df_trans[\"count\"] > 1000]\n",
    "df_hi = df_hi[df_hi[\"count\"] > 10]\n",
    "## merge\n",
    "merged = pd.merge(df_hi, df_trans, how=\"inner\", on=\"verb\")\n",
    "merged[\"bigram_rate\"] = merged.count_x / merged.count_y * 100\n",
    "merged = merged.sort_values(\"bigram_rate\", ascending=False)\n",
    "merged.columns = [\"verb\", \"count_hai\",\"count_total\",\"bigram_rate\"]\n",
    "merged.to_csv(\"hai_rate.csv\",index=False)\n",
    "print(merged)"
   ]
  },
  {
   "cell_type": "code",
   "execution_count": 46,
   "metadata": {},
   "outputs": [
    {
     "name": "stdout",
     "output_type": "stream",
     "text": [
      "(('ตัด', 'สิทธิ'), 274)\n",
      "(('ตัด', 'ตัว'), 171)\n",
      "(('ตัด', 'ต้นไม้'), 116)\n",
      "(('ตัด', 'โค่น'), 71)\n",
      "(('ตัด', 'ไฟ'), 65)\n",
      "(('ตัด', 'ถ่าง'), 59)\n"
     ]
    }
   ],
   "source": [
    "x = 0\n",
    "for i in bigram_counter.most_common():\n",
    "    if i[0][0] == \"ตัด\":\n",
    "        print(i)\n",
    "        x += 1\n",
    "        if x > 5:\n",
    "            break"
   ]
  },
  {
   "cell_type": "code",
   "execution_count": 35,
   "metadata": {},
   "outputs": [
    {
     "name": "stdout",
     "output_type": "stream",
     "text": [
      "      verb  count_hai  count_total  unigram_rate\n",
      "8      มอบ        364         1828     19.912473\n",
      "20     คืน        155          819     18.925519\n",
      "0    สร้าง       3087        19552     15.788666\n",
      "70  ส่งมอบ         46          318     14.465409\n",
      "9     จ่าย        348         3492      9.965636\n",
      "..     ...        ...          ...           ...\n",
      "90    เข้า         37         9846      0.375787\n",
      "66     รับ         47        15070      0.311878\n",
      "49      นำ         62        20958      0.295830\n",
      "74     ให้         45        16230      0.277264\n",
      "72    เกิด         45        18776      0.239668\n",
      "\n",
      "[109 rows x 4 columns]\n"
     ]
    }
   ],
   "source": [
    "df_trans = pd.DataFrame(unigram_counter.most_common(), columns=[\"verb\", \"count\"])\n",
    "df_hi = pd.DataFrame(hai_counter.most_common(), columns=[\"verb\", \"count\"])\n",
    "## filter\n",
    "#df_trans = df_trans[df_trans[\"count\"] > 1000]\n",
    "df_hi = df_hi[df_hi[\"count\"] > 30]\n",
    "## merge\n",
    "merged = pd.merge(df_hi, df_trans, how=\"inner\", on=\"verb\")\n",
    "merged[\"unigram_rate\"] = merged.count_x / merged.count_y * 100\n",
    "merged = merged.sort_values(\"unigram_rate\", ascending=False)\n",
    "merged.columns = [\"verb\", \"count_hai\",\"count_total\",\"unigram_rate\"]\n",
    "merged.to_csv(\"hai_rate.csv\",index=False)\n",
    "print(merged)"
   ]
  },
  {
   "cell_type": "code",
   "execution_count": 193,
   "metadata": {},
   "outputs": [
    {
     "data": {
      "text/html": [
       "<div>\n",
       "<style scoped>\n",
       "    .dataframe tbody tr th:only-of-type {\n",
       "        vertical-align: middle;\n",
       "    }\n",
       "\n",
       "    .dataframe tbody tr th {\n",
       "        vertical-align: top;\n",
       "    }\n",
       "\n",
       "    .dataframe thead th {\n",
       "        text-align: right;\n",
       "    }\n",
       "</style>\n",
       "<table border=\"1\" class=\"dataframe\">\n",
       "  <thead>\n",
       "    <tr style=\"text-align: right;\">\n",
       "      <th></th>\n",
       "      <th>id</th>\n",
       "      <th>sentence</th>\n",
       "      <th>is_high_rate</th>\n",
       "    </tr>\n",
       "  </thead>\n",
       "  <tbody>\n",
       "    <tr>\n",
       "      <th>0</th>\n",
       "      <td>1</td>\n",
       "      <td>ฉันจะคืนหนังสือให้</td>\n",
       "      <td>1</td>\n",
       "    </tr>\n",
       "    <tr>\n",
       "      <th>1</th>\n",
       "      <td>2</td>\n",
       "      <td>ฉันจะคืนเงินให้</td>\n",
       "      <td>1</td>\n",
       "    </tr>\n",
       "    <tr>\n",
       "      <th>2</th>\n",
       "      <td>3</td>\n",
       "      <td>ฉันจะเลี้ยงหนังให้</td>\n",
       "      <td>1</td>\n",
       "    </tr>\n",
       "    <tr>\n",
       "      <th>3</th>\n",
       "      <td>4</td>\n",
       "      <td>ฉันจะเลี้ยงขนมให้</td>\n",
       "      <td>1</td>\n",
       "    </tr>\n",
       "    <tr>\n",
       "      <th>4</th>\n",
       "      <td>5</td>\n",
       "      <td>ฉันจะส่งพัสดุให้</td>\n",
       "      <td>1</td>\n",
       "    </tr>\n",
       "    <tr>\n",
       "      <th>5</th>\n",
       "      <td>6</td>\n",
       "      <td>ฉันจะส่งจดหมายให้</td>\n",
       "      <td>1</td>\n",
       "    </tr>\n",
       "    <tr>\n",
       "      <th>6</th>\n",
       "      <td>7</td>\n",
       "      <td>ฉันจะเสนอแผนงานให้</td>\n",
       "      <td>1</td>\n",
       "    </tr>\n",
       "    <tr>\n",
       "      <th>7</th>\n",
       "      <td>8</td>\n",
       "      <td>ฉันจะเสนอไอเดียให้</td>\n",
       "      <td>1</td>\n",
       "    </tr>\n",
       "    <tr>\n",
       "      <th>8</th>\n",
       "      <td>9</td>\n",
       "      <td>ฉันจะสอนวิธีให้</td>\n",
       "      <td>1</td>\n",
       "    </tr>\n",
       "    <tr>\n",
       "      <th>9</th>\n",
       "      <td>10</td>\n",
       "      <td>ฉันจะสอนภาษาให้</td>\n",
       "      <td>1</td>\n",
       "    </tr>\n",
       "    <tr>\n",
       "      <th>10</th>\n",
       "      <td>11</td>\n",
       "      <td>ฉันจะตรวจสุขภาพให้</td>\n",
       "      <td>0</td>\n",
       "    </tr>\n",
       "    <tr>\n",
       "      <th>11</th>\n",
       "      <td>12</td>\n",
       "      <td>ฉันจะตรวจหวยให้</td>\n",
       "      <td>0</td>\n",
       "    </tr>\n",
       "    <tr>\n",
       "      <th>12</th>\n",
       "      <td>13</td>\n",
       "      <td>ฉันจะวางกระเป๋าให้</td>\n",
       "      <td>0</td>\n",
       "    </tr>\n",
       "    <tr>\n",
       "      <th>13</th>\n",
       "      <td>14</td>\n",
       "      <td>ฉันจะวางกีตาร์ให้</td>\n",
       "      <td>0</td>\n",
       "    </tr>\n",
       "    <tr>\n",
       "      <th>14</th>\n",
       "      <td>15</td>\n",
       "      <td>ฉันจะบอกเวลาให้</td>\n",
       "      <td>0</td>\n",
       "    </tr>\n",
       "    <tr>\n",
       "      <th>15</th>\n",
       "      <td>16</td>\n",
       "      <td>ฉันจะบอกความลับให้</td>\n",
       "      <td>0</td>\n",
       "    </tr>\n",
       "    <tr>\n",
       "      <th>16</th>\n",
       "      <td>17</td>\n",
       "      <td>ฉันจะขอเฉลยให้</td>\n",
       "      <td>0</td>\n",
       "    </tr>\n",
       "    <tr>\n",
       "      <th>17</th>\n",
       "      <td>18</td>\n",
       "      <td>ฉันจะขอเงินให้</td>\n",
       "      <td>0</td>\n",
       "    </tr>\n",
       "    <tr>\n",
       "      <th>18</th>\n",
       "      <td>19</td>\n",
       "      <td>ฉันจะเขียนอีเมล์ให้</td>\n",
       "      <td>0</td>\n",
       "    </tr>\n",
       "    <tr>\n",
       "      <th>19</th>\n",
       "      <td>20</td>\n",
       "      <td>ฉันจะเขียนรายงานให้</td>\n",
       "      <td>0</td>\n",
       "    </tr>\n",
       "  </tbody>\n",
       "</table>\n",
       "</div>"
      ],
      "text/plain": [
       "    id             sentence  is_high_rate\n",
       "0    1   ฉันจะคืนหนังสือให้             1\n",
       "1    2      ฉันจะคืนเงินให้             1\n",
       "2    3   ฉันจะเลี้ยงหนังให้             1\n",
       "3    4    ฉันจะเลี้ยงขนมให้             1\n",
       "4    5     ฉันจะส่งพัสดุให้             1\n",
       "5    6    ฉันจะส่งจดหมายให้             1\n",
       "6    7   ฉันจะเสนอแผนงานให้             1\n",
       "7    8   ฉันจะเสนอไอเดียให้             1\n",
       "8    9      ฉันจะสอนวิธีให้             1\n",
       "9   10      ฉันจะสอนภาษาให้             1\n",
       "10  11   ฉันจะตรวจสุขภาพให้             0\n",
       "11  12      ฉันจะตรวจหวยให้             0\n",
       "12  13   ฉันจะวางกระเป๋าให้             0\n",
       "13  14    ฉันจะวางกีตาร์ให้             0\n",
       "14  15      ฉันจะบอกเวลาให้             0\n",
       "15  16   ฉันจะบอกความลับให้             0\n",
       "16  17       ฉันจะขอเฉลยให้             0\n",
       "17  18       ฉันจะขอเงินให้             0\n",
       "18  19  ฉันจะเขียนอีเมล์ให้             0\n",
       "19  20  ฉันจะเขียนรายงานให้             0"
      ]
     },
     "execution_count": 193,
     "metadata": {},
     "output_type": "execute_result"
    }
   ],
   "source": [
    "data = pd.read_csv('data/stimuli_original.csv')\n",
    "data"
   ]
  },
  {
   "cell_type": "code",
   "execution_count": 195,
   "metadata": {},
   "outputs": [
    {
     "data": {
      "text/html": [
       "<div>\n",
       "<style scoped>\n",
       "    .dataframe tbody tr th:only-of-type {\n",
       "        vertical-align: middle;\n",
       "    }\n",
       "\n",
       "    .dataframe tbody tr th {\n",
       "        vertical-align: top;\n",
       "    }\n",
       "\n",
       "    .dataframe thead th {\n",
       "        text-align: right;\n",
       "    }\n",
       "</style>\n",
       "<table border=\"1\" class=\"dataframe\">\n",
       "  <thead>\n",
       "    <tr style=\"text-align: right;\">\n",
       "      <th></th>\n",
       "      <th>id</th>\n",
       "      <th>sentence</th>\n",
       "      <th>is_high_rate</th>\n",
       "    </tr>\n",
       "  </thead>\n",
       "  <tbody>\n",
       "    <tr>\n",
       "      <th>0</th>\n",
       "      <td>1</td>\n",
       "      <td>ฉันจะคืนหนังสือให้</td>\n",
       "      <td>1</td>\n",
       "    </tr>\n",
       "    <tr>\n",
       "      <th>2</th>\n",
       "      <td>3</td>\n",
       "      <td>ฉันจะเลี้ยงหนังให้</td>\n",
       "      <td>1</td>\n",
       "    </tr>\n",
       "    <tr>\n",
       "      <th>4</th>\n",
       "      <td>5</td>\n",
       "      <td>ฉันจะส่งพัสดุให้</td>\n",
       "      <td>1</td>\n",
       "    </tr>\n",
       "    <tr>\n",
       "      <th>6</th>\n",
       "      <td>7</td>\n",
       "      <td>ฉันจะเสนอแผนงานให้</td>\n",
       "      <td>1</td>\n",
       "    </tr>\n",
       "    <tr>\n",
       "      <th>8</th>\n",
       "      <td>9</td>\n",
       "      <td>ฉันจะสอนวิธีให้</td>\n",
       "      <td>1</td>\n",
       "    </tr>\n",
       "    <tr>\n",
       "      <th>10</th>\n",
       "      <td>11</td>\n",
       "      <td>ฉันจะตรวจสุขภาพให้</td>\n",
       "      <td>0</td>\n",
       "    </tr>\n",
       "    <tr>\n",
       "      <th>12</th>\n",
       "      <td>13</td>\n",
       "      <td>ฉันจะวางกระเป๋าให้</td>\n",
       "      <td>0</td>\n",
       "    </tr>\n",
       "    <tr>\n",
       "      <th>14</th>\n",
       "      <td>15</td>\n",
       "      <td>ฉันจะบอกเวลาให้</td>\n",
       "      <td>0</td>\n",
       "    </tr>\n",
       "    <tr>\n",
       "      <th>16</th>\n",
       "      <td>17</td>\n",
       "      <td>ฉันจะขอเฉลยให้</td>\n",
       "      <td>0</td>\n",
       "    </tr>\n",
       "    <tr>\n",
       "      <th>18</th>\n",
       "      <td>19</td>\n",
       "      <td>ฉันจะเขียนอีเมล์ให้</td>\n",
       "      <td>0</td>\n",
       "    </tr>\n",
       "  </tbody>\n",
       "</table>\n",
       "</div>"
      ],
      "text/plain": [
       "    id             sentence  is_high_rate\n",
       "0    1   ฉันจะคืนหนังสือให้             1\n",
       "2    3   ฉันจะเลี้ยงหนังให้             1\n",
       "4    5     ฉันจะส่งพัสดุให้             1\n",
       "6    7   ฉันจะเสนอแผนงานให้             1\n",
       "8    9      ฉันจะสอนวิธีให้             1\n",
       "10  11   ฉันจะตรวจสุขภาพให้             0\n",
       "12  13   ฉันจะวางกระเป๋าให้             0\n",
       "14  15      ฉันจะบอกเวลาให้             0\n",
       "16  17       ฉันจะขอเฉลยให้             0\n",
       "18  19  ฉันจะเขียนอีเมล์ให้             0"
      ]
     },
     "execution_count": 195,
     "metadata": {},
     "output_type": "execute_result"
    }
   ],
   "source": [
    "data[data.id % 2 == 1]"
   ]
  },
  {
   "cell_type": "code",
   "execution_count": 187,
   "metadata": {},
   "outputs": [
    {
     "data": {
      "text/html": [
       "<div>\n",
       "<style scoped>\n",
       "    .dataframe tbody tr th:only-of-type {\n",
       "        vertical-align: middle;\n",
       "    }\n",
       "\n",
       "    .dataframe tbody tr th {\n",
       "        vertical-align: top;\n",
       "    }\n",
       "\n",
       "    .dataframe thead th {\n",
       "        text-align: right;\n",
       "    }\n",
       "</style>\n",
       "<table border=\"1\" class=\"dataframe\">\n",
       "  <thead>\n",
       "    <tr style=\"text-align: right;\">\n",
       "      <th></th>\n",
       "      <th>date</th>\n",
       "      <th>y</th>\n",
       "    </tr>\n",
       "  </thead>\n",
       "  <tbody>\n",
       "    <tr>\n",
       "      <th>0</th>\n",
       "      <td>2022-01-01</td>\n",
       "      <td>9.42</td>\n",
       "    </tr>\n",
       "    <tr>\n",
       "      <th>1</th>\n",
       "      <td>2022-02-01</td>\n",
       "      <td>9.11</td>\n",
       "    </tr>\n",
       "    <tr>\n",
       "      <th>2</th>\n",
       "      <td>2022-04-01</td>\n",
       "      <td>8.65</td>\n",
       "    </tr>\n",
       "    <tr>\n",
       "      <th>3</th>\n",
       "      <td>2022-07-01</td>\n",
       "      <td>8.80</td>\n",
       "    </tr>\n",
       "    <tr>\n",
       "      <th>4</th>\n",
       "      <td>2022-08-01</td>\n",
       "      <td>8.50</td>\n",
       "    </tr>\n",
       "    <tr>\n",
       "      <th>5</th>\n",
       "      <td>2022-12-01</td>\n",
       "      <td>7.67</td>\n",
       "    </tr>\n",
       "    <tr>\n",
       "      <th>6</th>\n",
       "      <td>2023-02-01</td>\n",
       "      <td>7.51</td>\n",
       "    </tr>\n",
       "    <tr>\n",
       "      <th>7</th>\n",
       "      <td>2023-03-01</td>\n",
       "      <td>8.25</td>\n",
       "    </tr>\n",
       "    <tr>\n",
       "      <th>8</th>\n",
       "      <td>2023-04-01</td>\n",
       "      <td>7.53</td>\n",
       "    </tr>\n",
       "    <tr>\n",
       "      <th>9</th>\n",
       "      <td>2023-07-01</td>\n",
       "      <td>6.26</td>\n",
       "    </tr>\n",
       "    <tr>\n",
       "      <th>10</th>\n",
       "      <td>2023-09-01</td>\n",
       "      <td>0.00</td>\n",
       "    </tr>\n",
       "    <tr>\n",
       "      <th>11</th>\n",
       "      <td>2023-10-01</td>\n",
       "      <td>0.00</td>\n",
       "    </tr>\n",
       "  </tbody>\n",
       "</table>\n",
       "</div>"
      ],
      "text/plain": [
       "         date     y\n",
       "0  2022-01-01  9.42\n",
       "1  2022-02-01  9.11\n",
       "2  2022-04-01  8.65\n",
       "3  2022-07-01  8.80\n",
       "4  2022-08-01  8.50\n",
       "5  2022-12-01  7.67\n",
       "6  2023-02-01  7.51\n",
       "7  2023-03-01  8.25\n",
       "8  2023-04-01  7.53\n",
       "9  2023-07-01  6.26\n",
       "10 2023-09-01  0.00\n",
       "11 2023-10-01  0.00"
      ]
     },
     "execution_count": 187,
     "metadata": {},
     "output_type": "execute_result"
    }
   ],
   "source": [
    "da"
   ]
  },
  {
   "cell_type": "code",
   "execution_count": null,
   "metadata": {},
   "outputs": [],
   "source": []
  },
  {
   "cell_type": "code",
   "execution_count": null,
   "metadata": {},
   "outputs": [],
   "source": []
  },
  {
   "cell_type": "code",
   "execution_count": 270,
   "metadata": {},
   "outputs": [],
   "source": [
    "import matplotlib.pyplot as plt\n",
    "plt.style.use(\"ggplot\")"
   ]
  },
  {
   "cell_type": "code",
   "execution_count": 152,
   "metadata": {},
   "outputs": [
    {
     "data": {
      "text/plain": [
       "24783222"
      ]
     },
     "execution_count": 152,
     "metadata": {},
     "output_type": "execute_result"
    }
   ],
   "source": [
    "sum(df.token.apply(len))"
   ]
  },
  {
   "cell_type": "code",
   "execution_count": 271,
   "metadata": {},
   "outputs": [
    {
     "name": "stdout",
     "output_type": "stream",
     "text": [
      "a b c phi : 10.311710323397081 5.36931546858284 -11.28463466784702 1.3636673610499093\n"
     ]
    },
    {
     "data": {
      "text/plain": [
       "<matplotlib.legend.Legend at 0x2dd40a7f0>"
      ]
     },
     "execution_count": 271,
     "metadata": {},
     "output_type": "execute_result"
    },
    {
     "data": {
      "image/png": "[encoded data removed]",
      "text/plain": [
       "<Figure size 432x288 with 1 Axes>"
      ]
     },
     "metadata": {},
     "output_type": "display_data"
    }
   ],
   "source": [
    "import numpy as np\n",
    "from scipy.optimize import curve_fit\n",
    "import matplotlib.pyplot as plt\n",
    "\n",
    "## create data : y = 30cos(1.3x+2) - 8\n",
    "np.random.seed(42)\n",
    "xs = np.sort(np.random.uniform(0, 10, size=50))\n",
    "ys = np.cos(1.3*xs + 2) * 30 - 8\n",
    "noise = np.random.randn(len(xs)) * 10\n",
    "ys = ys + noise\n",
    "\n",
    "## cos function for fitting\n",
    "def func_cos(x, a, b, c, phi):\n",
    "    return a * np.cos(b * x + phi) + c\n",
    "\n",
    "## fit\n",
    "popt, pcov = curve_fit(func_cos, xs, ys, bounds=((-50,0,-50,0),(100,10,100,6)))\n",
    "ys_fit = func_cos(xs, *popt)\n",
    "print(\"a b c phi :\", *popt)\n",
    "\n",
    "plt.plot(xs, ys, label=\"data\")\n",
    "plt.plot(xs, ys_fit, label=\"fit\")\n",
    "plt.legend()"
   ]
  },
  {
   "cell_type": "code",
   "execution_count": 108,
   "metadata": {},
   "outputs": [
    {
     "data": {
      "text/plain": [
       "1.9836293856408282"
      ]
     },
     "execution_count": 108,
     "metadata": {},
     "output_type": "execute_result"
    }
   ],
   "source": [
    "14.55 - np.pi*4"
   ]
  },
  {
   "cell_type": "code",
   "execution_count": 222,
   "metadata": {},
   "outputs": [
    {
     "data": {
      "text/html": [
       "<div>\n",
       "<style scoped>\n",
       "    .dataframe tbody tr th:only-of-type {\n",
       "        vertical-align: middle;\n",
       "    }\n",
       "\n",
       "    .dataframe tbody tr th {\n",
       "        vertical-align: top;\n",
       "    }\n",
       "\n",
       "    .dataframe thead th {\n",
       "        text-align: right;\n",
       "    }\n",
       "</style>\n",
       "<table border=\"1\" class=\"dataframe\">\n",
       "  <thead>\n",
       "    <tr style=\"text-align: right;\">\n",
       "      <th></th>\n",
       "      <th>col1</th>\n",
       "      <th>col2</th>\n",
       "      <th>製品名</th>\n",
       "    </tr>\n",
       "  </thead>\n",
       "  <tbody>\n",
       "    <tr>\n",
       "      <th>0</th>\n",
       "      <td>10</td>\n",
       "      <td>3</td>\n",
       "      <td>A</td>\n",
       "    </tr>\n",
       "    <tr>\n",
       "      <th>1</th>\n",
       "      <td>8</td>\n",
       "      <td>9</td>\n",
       "      <td>A</td>\n",
       "    </tr>\n",
       "    <tr>\n",
       "      <th>2</th>\n",
       "      <td>15</td>\n",
       "      <td>2</td>\n",
       "      <td>A</td>\n",
       "    </tr>\n",
       "    <tr>\n",
       "      <th>3</th>\n",
       "      <td>3</td>\n",
       "      <td>6</td>\n",
       "      <td>B</td>\n",
       "    </tr>\n",
       "    <tr>\n",
       "      <th>4</th>\n",
       "      <td>8</td>\n",
       "      <td>9</td>\n",
       "      <td>B</td>\n",
       "    </tr>\n",
       "  </tbody>\n",
       "</table>\n",
       "</div>"
      ],
      "text/plain": [
       "   col1  col2 製品名\n",
       "0    10     3   A\n",
       "1     8     9   A\n",
       "2    15     2   A\n",
       "3     3     6   B\n",
       "4     8     9   B"
      ]
     },
     "execution_count": 222,
     "metadata": {},
     "output_type": "execute_result"
    }
   ],
   "source": [
    "df_sentaku = pd.DataFrame({\"col1\":[10,8,15,3,8], \"col2\":[3,9,2,6,9], \"製品名\":[\"A\",\"A\",\"A\",\"B\",\"B\"]})\n",
    "df_sentaku"
   ]
  },
  {
   "cell_type": "code",
   "execution_count": 223,
   "metadata": {},
   "outputs": [
    {
     "data": {
      "text/html": [
       "<div>\n",
       "<style scoped>\n",
       "    .dataframe tbody tr th:only-of-type {\n",
       "        vertical-align: middle;\n",
       "    }\n",
       "\n",
       "    .dataframe tbody tr th {\n",
       "        vertical-align: top;\n",
       "    }\n",
       "\n",
       "    .dataframe thead th {\n",
       "        text-align: right;\n",
       "    }\n",
       "</style>\n",
       "<table border=\"1\" class=\"dataframe\">\n",
       "  <thead>\n",
       "    <tr style=\"text-align: right;\">\n",
       "      <th></th>\n",
       "      <th>col1</th>\n",
       "      <th>col2</th>\n",
       "    </tr>\n",
       "    <tr>\n",
       "      <th>製品名</th>\n",
       "      <th></th>\n",
       "      <th></th>\n",
       "    </tr>\n",
       "  </thead>\n",
       "  <tbody>\n",
       "    <tr>\n",
       "      <th>A</th>\n",
       "      <td>3</td>\n",
       "      <td>3</td>\n",
       "    </tr>\n",
       "    <tr>\n",
       "      <th>B</th>\n",
       "      <td>5</td>\n",
       "      <td>5</td>\n",
       "    </tr>\n",
       "  </tbody>\n",
       "</table>\n",
       "</div>"
      ],
      "text/plain": [
       "     col1  col2\n",
       "製品名            \n",
       "A       3     3\n",
       "B       5     5"
      ]
     },
     "execution_count": 223,
     "metadata": {},
     "output_type": "execute_result"
    }
   ],
   "source": [
    "df_low = pd.DataFrame({\"製品名\":[\"A\",\"B\"],\"col1\":[3,5],\"col2\":[3,5]})\n",
    "df_low = df_low.set_index(\"製品名\")\n",
    "df_low"
   ]
  },
  {
   "cell_type": "code",
   "execution_count": 224,
   "metadata": {},
   "outputs": [],
   "source": [
    "def over_3sigma(row): # input = one row in dataframe \n",
    "    product_name = row[\"製品名\"]\n",
    "    row = row.drop(\"製品名\") # pd.Series with [col1, col2]\n",
    "    lower_limits = df_low.loc[product_name] # pd.Series with [col1, col2]\n",
    "    return all(row > lower_limits) # OR: any(), AND: all()"
   ]
  },
  {
   "cell_type": "code",
   "execution_count": 225,
   "metadata": {},
   "outputs": [
    {
     "data": {
      "text/html": [
       "<div>\n",
       "<style scoped>\n",
       "    .dataframe tbody tr th:only-of-type {\n",
       "        vertical-align: middle;\n",
       "    }\n",
       "\n",
       "    .dataframe tbody tr th {\n",
       "        vertical-align: top;\n",
       "    }\n",
       "\n",
       "    .dataframe thead th {\n",
       "        text-align: right;\n",
       "    }\n",
       "</style>\n",
       "<table border=\"1\" class=\"dataframe\">\n",
       "  <thead>\n",
       "    <tr style=\"text-align: right;\">\n",
       "      <th></th>\n",
       "      <th>col1</th>\n",
       "      <th>col2</th>\n",
       "      <th>製品名</th>\n",
       "    </tr>\n",
       "  </thead>\n",
       "  <tbody>\n",
       "    <tr>\n",
       "      <th>1</th>\n",
       "      <td>8</td>\n",
       "      <td>9</td>\n",
       "      <td>A</td>\n",
       "    </tr>\n",
       "    <tr>\n",
       "      <th>4</th>\n",
       "      <td>8</td>\n",
       "      <td>9</td>\n",
       "      <td>B</td>\n",
       "    </tr>\n",
       "  </tbody>\n",
       "</table>\n",
       "</div>"
      ],
      "text/plain": [
       "   col1  col2 製品名\n",
       "1     8     9   A\n",
       "4     8     9   B"
      ]
     },
     "execution_count": 225,
     "metadata": {},
     "output_type": "execute_result"
    }
   ],
   "source": [
    "df_sentaku[df_sentaku.apply(over_3sigma, axis=1)]"
   ]
  },
  {
   "cell_type": "code",
   "execution_count": 228,
   "metadata": {},
   "outputs": [
    {
     "name": "stdout",
     "output_type": "stream",
     "text": [
      "4のある場所は 3\n",
      "5のある場所は -1\n"
     ]
    }
   ],
   "source": [
    "def search_simple(data, value):\n",
    "    size = len(data)\n",
    "    for i in range(size):\n",
    "        if data[i] == value:\n",
    "            return i\n",
    "    return -1\n",
    "\n",
    "data = [3,1,6,4,8,10]\n",
    "\n",
    "place1 = search_simple(data, 4)\n",
    "place2 = search_simple(data, 5)\n",
    "\n",
    "print( f\"4のある場所は {place1}\" )\n",
    "print( f\"5のある場所は {place2}\" )"
   ]
  },
  {
   "cell_type": "code",
   "execution_count": 230,
   "metadata": {},
   "outputs": [],
   "source": [
    "import numpy as np\n",
    "import matplotlib.pyplot as plt\n",
    "from scipy.special import gamma\n",
    "\n",
    "x, y = np.meshgrid(np.linspace(-4, 4, 400), np.linspace(-4, 4, 400))\n",
    "z = x + y*1j"
   ]
  },
  {
   "cell_type": "code",
   "execution_count": 236,
   "metadata": {},
   "outputs": [
    {
     "data": {
      "text/plain": [
       "'みかん ぶどう'"
      ]
     },
     "execution_count": 236,
     "metadata": {},
     "output_type": "execute_result"
    }
   ],
   "source": [
    "s = 'りんご みかん ぶどう'\n",
    "s.split(\" \", 1)[1]"
   ]
  },
  {
   "cell_type": "code",
   "execution_count": 250,
   "metadata": {},
   "outputs": [
    {
     "name": "stdout",
     "output_type": "stream",
     "text": [
      "台形公式: 3.141592486923129\n",
      "誤差: 1.6666666402542774e-07\n"
     ]
    }
   ],
   "source": [
    "import numpy as np\n",
    "\n",
    "xs = np.linspace(0,1,1001)\n",
    "ys = 4 / (1 + xs**2)\n",
    "\n",
    "area = 0\n",
    "for i in range(len(xs)-1):\n",
    "    dx = xs[i+1] - xs[i]\n",
    "    area += dx * (ys[i+1]+ys[i]) / 2\n",
    "\n",
    "print(\"台形公式:\", area)\n",
    "print(\"誤差:\", np.pi-area)"
   ]
  },
  {
   "cell_type": "code",
   "execution_count": 252,
   "metadata": {},
   "outputs": [
    {
     "name": "stdout",
     "output_type": "stream",
     "text": [
      "シンプソン公式: 3.141592653589792\n",
      "誤差: 1.3322676295501878e-15\n"
     ]
    }
   ],
   "source": [
    "xs = np.linspace(0,1,1001)\n",
    "ys = 4 / (1 + xs**2)\n",
    "\n",
    "area = 0\n",
    "for i in range(0, len(xs)-2, 2):\n",
    "    h = xs[i+1] - xs[i]\n",
    "    area += h * (ys[i] + 4*ys[i+1] + ys[i+2]) / 3\n",
    "\n",
    "print(\"シンプソン公式:\", area)\n",
    "print(\"誤差:\", np.pi-area)"
   ]
  },
  {
   "cell_type": "code",
   "execution_count": 277,
   "metadata": {},
   "outputs": [
    {
     "data": {
      "text/plain": [
       "<matplotlib.legend.Legend at 0x17ee21a30>"
      ]
     },
     "execution_count": 277,
     "metadata": {},
     "output_type": "execute_result"
    },
    {
     "data": {
      "image/png": "[encoded data removed]",
      "text/plain": [
       "<Figure size 432x288 with 1 Axes>"
      ]
     },
     "metadata": {},
     "output_type": "display_data"
    }
   ],
   "source": [
    "# x' = dx/dt = sint\n",
    "# x = -cost\n",
    "# x_n+1 = x_n + dt*sin(t_n)\n",
    "\n",
    "dt = 1\n",
    "ts = np.arange(0, 6*np.pi, dt)\n",
    "\n",
    "xs = [-1]\n",
    "for i in range(len(ts)-1):\n",
    "    x_next = xs[-1] + dt * np.sin(ts[i])\n",
    "    xs.append(x_next)\n",
    "\n",
    "plt.plot(ts, xs, label=\"Euler\")\n",
    "\n",
    "ts_true = np.arange(0, 6*np.pi, 1e-2)\n",
    "xs_true = -np.cos(ts_true)\n",
    "plt.plot(ts_true, xs_true, label=\"True\")\n",
    "\n",
    "plt.legend()"
   ]
  },
  {
   "cell_type": "code",
   "execution_count": 308,
   "metadata": {},
   "outputs": [
    {
     "data": {
      "image/png": "[encoded data removed]",
      "text/plain": [
       "<Figure size 432x288 with 1 Axes>"
      ]
     },
     "metadata": {},
     "output_type": "display_data"
    },
    {
     "data": {
      "image/png": "[encoded data removed]",
      "text/plain": [
       "<Figure size 432x288 with 1 Axes>"
      ]
     },
     "metadata": {},
     "output_type": "display_data"
    },
    {
     "data": {
      "image/png": "[encoded data removed]",
      "text/plain": [
       "<Figure size 432x288 with 1 Axes>"
      ]
     },
     "metadata": {},
     "output_type": "display_data"
    },
    {
     "name": "stdout",
     "output_type": "stream",
     "text": [
      "(64, 64) (64,)\n"
     ]
    },
    {
     "data": {
      "image/png": "[encoded data removed]",
      "text/plain": [
       "<Figure size 432x288 with 1 Axes>"
      ]
     },
     "metadata": {},
     "output_type": "display_data"
    },
    {
     "data": {
      "image/png": "[encoded data removed]",
      "text/plain": [
       "<Figure size 432x288 with 1 Axes>"
      ]
     },
     "metadata": {},
     "output_type": "display_data"
    }
   ],
   "source": [
    "import matplotlib.pyplot as plt\n",
    "import random\n",
    "\n",
    "import numpy as np\n",
    "\n",
    "\n",
    "\n",
    "plt.xlim(0,N)\n",
    "plt.plot(p_spect , marker=\"x\")\n",
    "plt.show()\n",
    "\n"
   ]
  },
  {
   "cell_type": "code",
   "execution_count": 309,
   "metadata": {},
   "outputs": [
    {
     "data": {
      "image/png": "[encoded data removed]",
      "text/plain": [
       "<Figure size 432x288 with 1 Axes>"
      ]
     },
     "metadata": {},
     "output_type": "display_data"
    }
   ],
   "source": [
    "N=64\n",
    "s = 2 * np.pi/N \n",
    "x = np.arange(0, 2 * np.pi, s)\n",
    "y = np.sin(x)\n",
    "for n in range(2, 6):\n",
    "    y += (-1)**(n-1) * np.sin(n*x) / n\n",
    "plt.plot(x, y, marker=\"x\", linestyle='None')\n",
    "plt.show()"
   ]
  },
  {
   "cell_type": "code",
   "execution_count": 330,
   "metadata": {},
   "outputs": [
    {
     "data": {
      "image/png": "[encoded data removed]",
      "text/plain": [
       "<Figure size 432x288 with 1 Axes>"
      ]
     },
     "metadata": {},
     "output_type": "display_data"
    },
    {
     "data": {
      "image/png": "[encoded data removed]",
      "text/plain": [
       "<Figure size 1080x360 with 1 Axes>"
      ]
     },
     "metadata": {},
     "output_type": "display_data"
    }
   ],
   "source": [
    "N=64\n",
    "s = 2 * np.pi/N \n",
    "x = np.arange(0, 2 * np.pi, s)\n",
    "y = np.sin(x)\n",
    "for n in range(2, 6):\n",
    "    y += (-1)**(n-1) * np.sin(n*x) / n\n",
    "plt.plot(x, y, marker=\"x\", linestyle='None')\n",
    "plt.show()\n",
    "\n",
    "W = np.empty((N, N), dtype=complex)\n",
    "r, c = W.shape\n",
    "for i in range(r):\n",
    "    for k in range(c):\n",
    "        W[i,k] = complex(np.cos(-2*np.pi*i*k/N), np.sin(-2*np.pi*i*k/N))\n",
    "\n",
    "X = np.dot(W, y)\n",
    "p_spect=abs(X)\n",
    "\n",
    "plt.figure(figsize=(15,5))\n",
    "plt.plot(np.arange(-64, 128), list(p_spect) + list(p_spect) + list(p_spect)  , marker=\"x\")\n",
    "plt.xlabel(\"frequency\"); plt.ylabel(\"intensity\")\n",
    "plt.show()"
   ]
  },
  {
   "cell_type": "code",
   "execution_count": 373,
   "metadata": {},
   "outputs": [
    {
     "data": {
      "text/plain": [
       "'6.68K'"
      ]
     },
     "execution_count": 373,
     "metadata": {},
     "output_type": "execute_result"
    }
   ],
   "source": [
    "from bs4 import BeautifulSoup\n",
    "import requests, re\n",
    "\n",
    "url = \"https://www.youtube.com/@CardshopPonpoko\"\n",
    "response = requests.get(url)\n",
    "\n",
    "subscriber = re.search(r'label\":\"([\\d\\.KM]+) subscribers' , response.text).group(1)\n",
    "subscriber"
   ]
  },
  {
   "cell_type": "code",
   "execution_count": 383,
   "metadata": {},
   "outputs": [
    {
     "name": "stderr",
     "output_type": "stream",
     "text": [
      "/var/folders/52/l2wyvfk15dz9_4btyv7zzl2r0000gn/T/ipykernel_32329/1547512978.py:5: MatplotlibDeprecationWarning: Axes3D(fig) adding itself to the figure is deprecated since 3.4. Pass the keyword argument auto_add_to_figure=False and use fig.add_axes(ax) to suppress this warning. The default value of auto_add_to_figure will change to False in mpl3.5 and True values will no longer work in 3.6.  This is consistent with other Axes classes.\n",
      "  ax = Axes3D(fig)\n"
     ]
    },
    {
     "data": {
      "image/png": "[encoded data removed]",
      "text/plain": [
       "<Figure size 432x288 with 1 Axes>"
      ]
     },
     "metadata": {},
     "output_type": "display_data"
    }
   ],
   "source": [
    "x, y = np.meshgrid(np.linspace(-5,5,500), np.linspace(-5,5,500))\n",
    "z = x + y*1j\n",
    "w = z**2\n",
    "fig = plt.figure()\n",
    "ax = Axes3D(fig)\n",
    "ax.plot_surface(x,y,np.abs(w))\n",
    "plt.show()"
   ]
  },
  {
   "cell_type": "code",
   "execution_count": 381,
   "metadata": {},
   "outputs": [
    {
     "data": {
      "text/plain": [
       "array([[-5.        , -4.97995992, -4.95991984, ...,  4.95991984,\n",
       "         4.97995992,  5.        ],\n",
       "       [-5.        , -4.97995992, -4.95991984, ...,  4.95991984,\n",
       "         4.97995992,  5.        ],\n",
       "       [-5.        , -4.97995992, -4.95991984, ...,  4.95991984,\n",
       "         4.97995992,  5.        ],\n",
       "       ...,\n",
       "       [-5.        , -4.97995992, -4.95991984, ...,  4.95991984,\n",
       "         4.97995992,  5.        ],\n",
       "       [-5.        , -4.97995992, -4.95991984, ...,  4.95991984,\n",
       "         4.97995992,  5.        ],\n",
       "       [-5.        , -4.97995992, -4.95991984, ...,  4.95991984,\n",
       "         4.97995992,  5.        ]])"
      ]
     },
     "execution_count": 381,
     "metadata": {},
     "output_type": "execute_result"
    }
   ],
   "source": [
    "x"
   ]
  },
  {
   "cell_type": "code",
   "execution_count": 379,
   "metadata": {},
   "outputs": [],
   "source": [
    "from mpl_toolkits.mplot3d import Axes3D"
   ]
  },
  {
   "cell_type": "code",
   "execution_count": null,
   "metadata": {},
   "outputs": [],
   "source": []
  }
 ],
 "metadata": {
  "kernelspec": {
   "display_name": "Python 3.9.13 64-bit",
   "language": "python",
   "name": "python3"
  },
  "language_info": {
   "codemirror_mode": {
    "name": "ipython",
    "version": 3
   },
   "file_extension": ".py",
   "mimetype": "text/x-python",
   "name": "python",
   "nbconvert_exporter": "python",
   "pygments_lexer": "ipython3",
   "version": "3.9.13"
  },
  "orig_nbformat": 4,
  "vscode": {
   "interpreter": {
    "hash": "aee8b7b246df8f9039afb4144a1f6fd8d2ca17a180786b69acc140d282b71a49"
   }
  }
 },
 "nbformat": 4,
 "nbformat_minor": 2
}
